{
 "cells": [
  {
   "cell_type": "code",
   "execution_count": 1,
   "metadata": {
    "collapsed": false
   },
   "outputs": [
    {
     "name": "stderr",
     "output_type": "stream",
     "text": [
      "/Users/sclayton/anaconda/lib/python2.7/site-packages/matplotlib/font_manager.py:273: UserWarning: Matplotlib is building the font cache using fc-list. This may take a moment.\n",
      "  warnings.warn('Matplotlib is building the font cache using fc-list. This may take a moment.')\n"
     ]
    }
   ],
   "source": [
    "% matplotlib inline\n",
    "\n",
    "import numpy as np\n",
    "import numpy.ma as ma\n",
    "import pandas as pd\n",
    "from math import *\n",
    "import matplotlib.pyplot as plt\n",
    "import scipy.io as sio\n",
    "from mpl_toolkits.basemap import Basemap, cm\n",
    "\n",
    "import MITgcmutils as mit\n",
    "from MITgcmutils import cs\n",
    "\n",
    "from matplotlib import rcParams, rc\n",
    "rcParams.update({'figure.autolayout': True})\n",
    "rcParams.update({'font.family': 'serif'})\n",
    "rcParams.update({'font.serif': 'Times New Roman'})\n",
    "\n"
   ]
  },
  {
   "cell_type": "code",
   "execution_count": 2,
   "metadata": {
    "collapsed": true
   },
   "outputs": [],
   "source": [
    "## import the mean data\n",
    "\n",
    "CRindir = '/Volumes/My Passport/coarse_run/'\n",
    "HRindir = '/Volumes/My Passport/high_res/'\n",
    "\n",
    "#import grid params for CR grid\n",
    "\n",
    "in_file = '%sgrid/HFacC.data' % CRindir\n",
    "HFCR = np.fromfile(in_file, dtype = '>f')\n",
    "HFCR = HFCR.reshape(23, 160, 360)\n",
    "\n",
    "in_file = '%sgrid/XC.data' % CRindir\n",
    "XC = np.fromfile(in_file, dtype = '>f')\n",
    "XC = XC.reshape(160,360)\n",
    "\n",
    "in_file = '%sgrid/YC.data' % CRindir\n",
    "YC = np.fromfile(in_file, dtype = '>f')\n",
    "YC = YC.reshape(160,360)\n",
    "\n",
    "in_file = '/Users/sclayton/Documents/darwin_model/eg_grid/RA.data'\n",
    "RA = np.fromfile(in_file, dtype = '>f')\n",
    "RA = RA.reshape(160,360)\n",
    "\n",
    "## pick a nutrient 0 = phosphate, 1 = nitrate, 2 = iron, 3 = silica\n",
    "v=2\n",
    "\n",
    "# import CR data\n",
    "\n",
    "in_file = '%supflux/CR_WN.1999.data' % CRindir\n",
    "CRWN = np.fromfile(in_file, dtype='>f').reshape(4,160, 360)\n",
    "CRmask = ma.masked_where(HFCR[6,:,:] == 0, CRWN[v,:,:], copy=False)\n",
    "\n",
    "#import grid params for HR grid\n",
    "HFHR = mit.rdmds('/Users/sclayton/Documents/darwin_model/e2_grid/hFacC')\n",
    "XG = mit.rdmds('/Users/sclayton/Documents/darwin_model/e2_grid/XG')\n",
    "YG = mit.rdmds('/Users/sclayton/Documents/darwin_model/e2_grid/YG')\n",
    "RAC = mit.rdmds('/Users/sclayton/Documents/darwin_model/e2_grid/RAC')\n",
    "\n",
    "# import HR data\n",
    "in_file = '%supflux/WN.1999.data' % HRindir\n",
    "HRWN = np.fromfile(in_file, dtype='>f').reshape(4, 510, 3060)\n",
    "HRmask = ma.masked_where(HFHR[10,:,:] == 0, HRWN[v,:,:], copy=False)\n",
    "\n",
    "for n in range(4):\n",
    "    CRWN[n, :, :] = ma.masked_where(HFCR[6,:,:] == 0, CRWN[n,:,:], copy=True)\n",
    "    HRWN[n, :, :] = ma.masked_where(HFHR[10,:,:] == 0, HRWN[n,:,:], copy=True)"
   ]
  },
  {
   "cell_type": "code",
   "execution_count": 7,
   "metadata": {
    "collapsed": false
   },
   "outputs": [],
   "source": [
    "## calculate the eddy upflux\n",
    "\n",
    "HRWNanom = np.zeros((4, 12, 510, 3060))\n",
    "CRWNanom = np.zeros((4, 12, 160, 360))\n",
    "\n",
    "d = 1\n",
    "nd = [31, 28, 31, 30, 31, 30, 31, 31, 30, 31, 30, 31]\n",
    "ed = np.cumsum(nd)\n",
    "sd = np.ones(12)\n",
    "sd[1:12] = ed[0:11]\n",
    "sd = sd.astype(int)\n",
    "\n",
    "for m in range(12):\n",
    "    for d in range(sd[m], ed[m]+1):\n",
    "    \n",
    "        infile = '%supflux/WN.1999.%03d.data' % (HRindir, d)\n",
    "        tmph = np.fromfile(infile, dtype = '>f').reshape(4,510, 3060)\n",
    "\n",
    "        infile = '%supflux/CR_WN.1999.%03d.data' % (CRindir, d)\n",
    "        tmpc = np.fromfile(infile, dtype = '>f').reshape(4,160,360)\n",
    "\n",
    "        for n in range(4):\n",
    "            HRWNanom[n,m,:,:] =+ ma.masked_where(HFHR[0,:,:] == 0, tmph[n,:,:], copy=True) - HRWN[n,:,:]\n",
    "            CRWNanom[n,m,:,:] =+ ma.masked_where(HFCR[6,:,:] == 0, tmpc[n,:,:], copy=True) - CRWN[n,:,:]\n",
    "            \n",
    "    HRWNanom[:,m,:,:]=HRWNanom[:,m,:,:]/nd[m]\n",
    "    CRWNanom[:,m,:,:]=CRWNanom[:,m,:,:]/nd[m]\n",
    "    "
   ]
  },
  {
   "cell_type": "code",
   "execution_count": null,
   "metadata": {
    "collapsed": true
   },
   "outputs": [],
   "source": [
    "# work out the latitudinally averaged vertical nutrient supply\n",
    "\n",
    "n = 1\n",
    "m = 6\n",
    "\n",
    "# EG\n",
    "CRHFmask = CRWNanom[n,m,:,:] *HFCR[6,:,:]*RA\n",
    "binsize = 5\n",
    "ybin = np.arange(-60, 60+binsize, binsize)\n",
    "\n",
    "binnedcr = np.empty([len(ybin)])\n",
    "numobs = np.empty([len(ybin)])\n",
    "areacr = np.empty([len(ybin)])\n",
    "\n",
    "for i in range(len(ybin)):\n",
    "    lat = ybin[i]\n",
    "\n",
    "    nn = len((YC>=lat-binsize/2) & (YC<lat +binsize/2))\n",
    "    if nn > 0:\n",
    "        #print YC[[(YC>(lat-binsize/2)) & (YC<(lat +binsize/2))]]\n",
    "        areacr[i] = np.nansum(RA[(YC>=lat-binsize/2) & (YC<lat +binsize/2)])\n",
    "        binnedcr[i] = np.nansum(CRHFmask[(YC>=lat-binsize/2) & (YC<lat +binsize/2)])/areacr[i]\n",
    "        numobs[i] = nn\n",
    "    \n",
    "    else:\n",
    "        binnedcr[i] = np.nan\n",
    "        numobs[i] = np.nan\n",
    "\n",
    "# E2\n",
    "HRHFmask = HRWNanom[n,m,:,:] *HFHR[10,:,:]*RAC\n",
    "\n",
    "binnedhr = np.empty([len(ybin)])\n",
    "numobs = np.empty([len(ybin)])\n",
    "areahr = np.empty([len(ybin)])\n",
    "\n",
    "for i in range(len(ybin)):\n",
    "    lat = ybin[i]\n",
    "\n",
    "    nn = len((YG>=lat-binsize/2) & (YG<lat +binsize/2))\n",
    "    if nn > 0:\n",
    "        #print YC[[(YC>(lat-binsize/2)) & (YC<(lat +binsize/2))]]\n",
    "        areahr[i] = np.nansum(RAC[(YG>=lat-binsize/2) & (YG<lat +binsize/2)])\n",
    "        binnedhr[i] = np.nansum(HRHFmask[(YG>=lat-binsize/2) & (YG<lat +binsize/2)])/areahr[i]\n",
    "        numobs[i] = nn\n",
    "    \n",
    "    else:\n",
    "        binnedhr[i] = np.nan\n",
    "        numobs[i] = np.nan\n",
    "\n",
    "s_to_y = 365 \n",
    "\n",
    "fig3 = plt.figure(3, figsize=(9,9), dpi = 600)\n",
    "\n",
    "plt.plot(binnedcr*s_to_y, ybin,'.-r', label = 'CR', lw =2)\n",
    "plt.plot(binnedhr*s_to_y, ybin,'.-b',label= 'HR',lw = 2)\n",
    "plt.ylabel('Latitude', fontsize=20)\n",
    "plt.legend(fontsize = 20)\n",
    "plt.tick_params(axis='both', which='major', labelsize=20)\n",
    "plt.xlabel(r'Annual Average vertical flux of NO3 at 100m', fontsize=20)\n",
    "plt.axvline(0, color='k')\n",
    "plt.axhline(35, color='k')\n",
    "plt.axhline(5, color='k')\n",
    "plt.axhline(-5, color='k')\n",
    "plt.axhline(-35, color='k')\n",
    "plt.axis([-500, 1000, -60, 60])\n",
    "plt.show()\n"
   ]
  },
  {
   "cell_type": "code",
   "execution_count": null,
   "metadata": {
    "collapsed": false
   },
   "outputs": [],
   "source": [
    "# latmin = [35, 5, -5, -35, -60]\n",
    "# latmax = [60, 35, 5, -5, -35]\n",
    "\n",
    "# region = ['N SPolar', 'N STropic', 'Eq', 'S STropic', 'S SPolar']\n",
    "\n",
    "\n",
    "# for l in range(len(latmax)):\n",
    "#     HRint = HRWNanom[v,:,:]*HFHR[0,:,:]*RAC\n",
    "#     subset = HRint[(YG>latmin[l]) & (YG<latmax[l])]\n",
    "    \n",
    "#     print region[l]\n",
    "#     print 'ECCO2', np.nansum(subset)/(np.sum(RAC[(YG>latmin[l]) & (YG<latmax[l])]))\n",
    "\n",
    "#     CRint = CRWNanom[v,:,:]*HFCR[6,:,:]*RA\n",
    "#     subset = CRint[(YC>latmin[l]) & (YC<latmax[l])]\n",
    "#     print 'ECCO-Godae', np.nansum(subset)/(np.sum(RA[(YC>latmin[l]) & (YC<latmax[l])]))\n",
    "#     print '\\n'"
   ]
  },
  {
   "cell_type": "code",
   "execution_count": null,
   "metadata": {
    "collapsed": true
   },
   "outputs": [],
   "source": []
  }
 ],
 "metadata": {
  "kernelspec": {
   "display_name": "Python 2",
   "language": "python",
   "name": "python2"
  },
  "language_info": {
   "codemirror_mode": {
    "name": "ipython",
    "version": 2
   },
   "file_extension": ".py",
   "mimetype": "text/x-python",
   "name": "python",
   "nbconvert_exporter": "python",
   "pygments_lexer": "ipython2",
   "version": "2.7.11"
  }
 },
 "nbformat": 4,
 "nbformat_minor": 0
}
