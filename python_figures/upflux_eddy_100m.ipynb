{
 "cells": [
  {
   "cell_type": "code",
   "execution_count": 1,
   "metadata": {
    "collapsed": false
   },
   "outputs": [
    {
     "name": "stderr",
     "output_type": "stream",
     "text": [
      "/Users/sclayton/anaconda/lib/python2.7/site-packages/matplotlib/font_manager.py:273: UserWarning: Matplotlib is building the font cache using fc-list. This may take a moment.\n",
      "  warnings.warn('Matplotlib is building the font cache using fc-list. This may take a moment.')\n"
     ]
    }
   ],
   "source": [
    "% matplotlib inline\n",
    "\n",
    "import numpy as np\n",
    "import numpy.ma as ma\n",
    "import pandas as pd\n",
    "from math import *\n",
    "import matplotlib.pyplot as plt\n",
    "import scipy.io as sio\n",
    "from mpl_toolkits.basemap import Basemap, cm\n",
    "\n",
    "import MITgcmutils as mit\n",
    "from MITgcmutils import cs\n",
    "\n",
    "from matplotlib import rcParams, rc\n",
    "rcParams.update({'figure.autolayout': True})\n",
    "rcParams.update({'font.family': 'serif'})\n",
    "rcParams.update({'font.serif': 'Times New Roman'})\n",
    "\n"
   ]
  },
  {
   "cell_type": "code",
   "execution_count": 2,
   "metadata": {
    "collapsed": true
   },
   "outputs": [],
   "source": [
    "## import the mean data\n",
    "\n",
    "CRindir = '/Volumes/My Passport/coarse_run/'\n",
    "HRindir = '/Volumes/My Passport/high_res/'\n",
    "\n",
    "#import grid params for CR grid\n",
    "\n",
    "in_file = '%sgrid/HFacC.data' % CRindir\n",
    "HFCR = np.fromfile(in_file, dtype = '>f')\n",
    "HFCR = HFCR.reshape(23, 160, 360)[0,:,:]\n",
    "\n",
    "in_file = '%sgrid/XC.data' % CRindir\n",
    "XC = np.fromfile(in_file, dtype = '>f')\n",
    "XC = XC.reshape(160,360)\n",
    "\n",
    "in_file = '%sgrid/YC.data' % CRindir\n",
    "YC = np.fromfile(in_file, dtype = '>f')\n",
    "YC = YC.reshape(160,360)\n",
    "\n",
    "in_file = '/Users/sclayton/Documents/darwin_model/eg_grid/RA.data'\n",
    "RA = np.fromfile(in_file, dtype = '>f')\n",
    "RA = RA.reshape(160,360)\n",
    "\n",
    "## pick a nutrient 0 = phosphate, 1 = nitrate, 2 = iron, 3 = silica\n",
    "v=2\n",
    "\n",
    "# import CR data\n",
    "\n",
    "in_file = '%supflux/CR_WN.1999.data' % CRindir\n",
    "CRWN = np.fromfile(in_file, dtype='>f').reshape(4,160, 360)\n",
    "CRmask = ma.masked_where(HFCR == 0, CRWN[v,:,:], copy=False)\n",
    "\n",
    "#import grid params for HR grid\n",
    "HFHR = mit.rdmds('/Users/sclayton/Documents/darwin_model/e2_grid/hFacC')\n",
    "XG = mit.rdmds('/Users/sclayton/Documents/darwin_model/e2_grid/XG')\n",
    "YG = mit.rdmds('/Users/sclayton/Documents/darwin_model/e2_grid/YG')\n",
    "RAC = mit.rdmds('/Users/sclayton/Documents/darwin_model/e2_grid/RAC')\n",
    "\n",
    "# import HR data\n",
    "in_file = '%supflux/WN.1999.data' % HRindir\n",
    "HRWN = np.fromfile(in_file, dtype='>f').reshape(4, 510, 3060)\n",
    "HRmask = ma.masked_where(HFHR[0,:,:] == 0, HRWN[v,:,:], copy=False)"
   ]
  },
  {
   "cell_type": "code",
   "execution_count": null,
   "metadata": {
    "collapsed": false
   },
   "outputs": [],
   "source": [
    "## calculate the eddy upflux\n",
    "\n",
    "HRWNanom = np.zeros((4, 510, 3060))\n",
    "CRWNanom = np.zeros((4, 160, 360))\n",
    "\n",
    "for d in range(1, 366,1):\n",
    "    infile = '%supflux/WN.1999.%03d.data' % (HRindir, d)\n",
    "    tmp = np.fromfile(infile, dtype = '>f').reshape(4,510, 3060)\n",
    "    HRWNanom =+ tmp - HRWN\n",
    "    \n",
    "    infile = '%supflux/CR_WN.1999.%03d.data' % (CRindir, d)\n",
    "    tmp = np.fromfile(infile, dtype = '>f').reshape(4,160,360)\n",
    "    CRWNanom =+ tmp - CRWN\n",
    "    "
   ]
  },
  {
   "cell_type": "code",
   "execution_count": null,
   "metadata": {
    "collapsed": true
   },
   "outputs": [],
   "source": [
    "fig1 = plt.figure(1, figsize=(18,9), dpi = 600)\n",
    "\n",
    "palette = plt.get_cmap('RdBu_r', 50)\n",
    "\n",
    "#x=mit.rdmds('XG'); y=mit.rdmds('YG'); e=mit.rdmds('Eta',np.Inf)\n",
    "mp = Basemap(projection='merc',llcrnrlat=-80,urcrnrlat=80,\\\n",
    "            llcrnrlon=0,urcrnrlon=360,lat_ts = 0, resolution='c')\n",
    "xm, ym = mp(XC,YC)\n",
    "#mp.contour(xm, ym, HFCR, [0], colors='k', lw=1)\n",
    "mp.pcolormesh(xm, ym, CRWNanom[1,:,:],shading='flat', vmin= -4, vmax = 4, cmap = palette)\n",
    "\n",
    "mp.fillcontinents(color = 'grey')\n",
    "mp.drawmapboundary()\n",
    "mp.drawparallels(np.arange(-80,80,20),labels=[1,1,0,1], fontsize=24)\n",
    "mp.drawmeridians(np.arange(-180,180,60),labels=[0,0,0,1], fontsize=24)\n",
    "\n",
    "plt.tick_params(axis='both', which='major', labelsize=24)\n",
    "plt.tick_params(axis='both', which='minor', labelsize=24)\n",
    "plt.xlabel('Longitude', fontsize = 24, labelpad = 30)\n",
    "plt.ylabel('Latitude', fontsize = 24, labelpad = 70)\n",
    "\n",
    "cbar = plt.colorbar(pad = 0.08)\n",
    "cbar.ax.tick_params(labelsize=24)\n",
    "\n",
    "plt.show()\n",
    "\n",
    "#plt.pcolormesh(XG, YG,HFHR,shading='flat', vmin= -2, vmax = 2,cmap = palette)\n",
    "#plt.axis([-180, 180, -80, 80])\n",
    "#plt.colorbar()\n",
    "#plt.show()\n"
   ]
  },
  {
   "cell_type": "code",
   "execution_count": null,
   "metadata": {
    "collapsed": true
   },
   "outputs": [],
   "source": [
    "fig2 = plt.figure(2, figsize=(18,9), dpi = 600)\n",
    "\n",
    "palette = plt.get_cmap('RdBu_r', 50)\n",
    "\n",
    "#x=mit.rdmds('XG'); y=mit.rdmds('YG'); e=mit.rdmds('Eta',np.Inf)\n",
    "mp = Basemap(projection='merc',llcrnrlat=-80,urcrnrlat=80,\\\n",
    "            llcrnrlon=-180,urcrnrlon=180,lat_ts = 0, resolution='c')\n",
    "\n",
    "h = cs.pcol(XG, YG,HRWNanom[1,:,:], projection = mp, vmin= -4, vmax = 4, cmap = palette)\n",
    "\n",
    "mp.fillcontinents(color = 'grey')\n",
    "mp.drawmapboundary()\n",
    "mp.drawparallels(np.arange(-80,80,20),labels=[1,1,0,1], fontsize=24)\n",
    "mp.drawmeridians(np.arange(-180,180,60),labels=[0,0,0,1], fontsize=24)\n",
    "\n",
    "plt.tick_params(axis='both', which='major', labelsize=24)\n",
    "plt.tick_params(axis='both', which='minor', labelsize=24)\n",
    "plt.xlabel('Longitude', fontsize = 24, labelpad = 30)\n",
    "plt.ylabel('Latitude', fontsize = 24, labelpad = 70)\n",
    "\n",
    "cbar = plt.colorbar(pad = 0.08)\n",
    "cbar.ax.tick_params(labelsize=24)\n",
    "\n",
    "plt.show()\n",
    "\n",
    "#plt.pcolormesh(XG, YG,HFHR,shading='flat', vmin= -2, vmax = 2,cmap = palette)\n",
    "#plt.axis([-180, 180, -80, 80])\n",
    "#plt.colorbar()\n",
    "#plt.show()"
   ]
  }
 ],
 "metadata": {
  "kernelspec": {
   "display_name": "Python 2",
   "language": "python",
   "name": "python2"
  },
  "language_info": {
   "codemirror_mode": {
    "name": "ipython",
    "version": 2
   },
   "file_extension": ".py",
   "mimetype": "text/x-python",
   "name": "python",
   "nbconvert_exporter": "python",
   "pygments_lexer": "ipython2",
   "version": "2.7.11"
  }
 },
 "nbformat": 4,
 "nbformat_minor": 0
}
