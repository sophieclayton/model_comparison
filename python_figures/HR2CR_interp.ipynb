{
 "cells": [
  {
   "cell_type": "code",
   "execution_count": 1,
   "metadata": {
    "collapsed": false
   },
   "outputs": [
    {
     "name": "stderr",
     "output_type": "stream",
     "text": [
      "/Users/sclayton/anaconda/lib/python2.7/site-packages/matplotlib/font_manager.py:273: UserWarning: Matplotlib is building the font cache using fc-list. This may take a moment.\n",
      "  warnings.warn('Matplotlib is building the font cache using fc-list. This may take a moment.')\n"
     ]
    }
   ],
   "source": [
    "% matplotlib inline\n",
    "\n",
    "import numpy as np\n",
    "import numpy.ma as ma\n",
    "import pandas as pd\n",
    "from math import *\n",
    "import matplotlib.pyplot as plt\n",
    "import scipy.io as sio\n",
    "from mpl_toolkits.basemap import Basemap, cm\n",
    "from netCDF4 import Dataset\n",
    "import scipy.sparse as sp\n",
    "\n",
    "import MITgcmutils as mit\n",
    "from MITgcmutils import cs"
   ]
  },
  {
   "cell_type": "code",
   "execution_count": 2,
   "metadata": {
    "collapsed": false
   },
   "outputs": [],
   "source": [
    "# script to interpolate ECCO2 output onto ECCO-Godae grid\n",
    "\n",
    "rmwfile='/Users/sclayton/Documents/MIT_work/comparison/hrmp_e2_cs510_to_eg_v3_noland.nc'\n",
    "\n",
    "# ECCO-Godae maskfile and number of vertical levels (needed to read mask).\n",
    "# outhFacCfile='hFacC_eg.data';\n",
    "outhFacCfile='/Volumes/My Passport/coarse_run/grid/HFacC.data'\n",
    "nzout=23\n",
    "\n",
    "# Load weights information\n",
    "nc = Dataset(rmwfile, mode='r', mmap=False)\n",
    "\n",
    "\n",
    "nlinks = len(nc.dimensions['num_links'])\n",
    "ndin = len(nc.dimensions['src_grid_size'])\n",
    "ndxout = nc.variables['dst_grid_dims'][0]\n",
    "ndyout = nc.variables['dst_grid_dims'][1]\n",
    "rmp_wgts = nc.variables['remap_matrix'][:,:]\n",
    "rmp_src_i = nc.variables['src_address'][:]\n",
    "rmp_dst_i = nc.variables['dst_address'][:]\n",
    "\n",
    "nc.close()\n",
    "\n",
    "hFacC = mit.rdmds('/Users/sclayton/Documents/darwin_model/e2_grid/hFacC')\n",
    "hFacC = np.squeeze(hFacC[0,:,:])\n",
    "outhfacc = np.fromfile(outhFacCfile, dtype = '>f').reshape(23, 160, 360)\n",
    "\n",
    "dstmask1 = outhfacc[0,:,:]\n",
    "dstmask1[dstmask1!=0]=1\n",
    "\n",
    "# Create the weights matrix\n",
    "nout,nin = 160*360,6*510*510\n",
    "rm_mat = sp.coo_matrix((rmp_wgts[:,0], (rmp_dst_i[:]-1,rmp_src_i[:]-1)), shape=(nout,nin)).tocsr()\n"
   ]
  },
  {
   "cell_type": "code",
   "execution_count": 6,
   "metadata": {
    "collapsed": false
   },
   "outputs": [],
   "source": [
    "# interpolate upflux\n",
    "# import HR data\n",
    "\n",
    "monthly = np.zeros((4, 160, 360))\n",
    "\n",
    "# import HR data\n",
    "HRindir = '/Volumes/My Passport/high_res/'\n",
    "in_file = '%supflux/WN.1999.data' % HRindir\n",
    "HRWN = np.fromfile(in_file, dtype='>f').reshape(4, 510, 3060)\n",
    "\n",
    "for v in range(4):\n",
    "    phi = HRWN[v,:,:]\n",
    "    phi[phi==0]=1e-30\n",
    "    phi = phi.reshape(510, 3060)\n",
    "    # Create a field with 1 over water and 0 over land\n",
    "    phi_one = phi*0\n",
    "    phi_one[phi!=0] = 1\n",
    "\n",
    "    # Bin average the src field to the dst mesh\n",
    "    foo = rm_mat*phi.reshape(510,6,510).transpose([1,0,2]).reshape(6*510*510)\n",
    "    foo = foo.reshape(160,360)\n",
    "    # Bin average the land-sea mask field to the dst mesh\n",
    "    foo_one = rm_mat*phi_one.reshape(510,6,510).transpose([1,0,2]).reshape(6*510*510)\n",
    "    foo_one = foo_one.reshape(160,360)\n",
    "    a = foo_one[foo_one!=0]\n",
    "    foo_one[foo_one!=0]=1./a\n",
    "\n",
    "    # Zap points for which less than 1/alpha of the cell is wet.\n",
    "    alpha = 20\n",
    "    foo_one[foo_one>alpha] = 0.\n",
    "    foo = foo*foo_one\n",
    "\n",
    "    foo = foo *dstmask1\n",
    "    foo[dstmask1==0] = 0.\n",
    "        \n",
    "    monthly[v,:,:] = foo\n",
    "\n",
    "outfile='/Users/sclayton/Google Drive/work/comparison/data/annual/HR2CR/HR2CR_WN.1999.data'\n",
    "monthly.astype('>f4').tofile(outfile)"
   ]
  },
  {
   "cell_type": "code",
   "execution_count": 3,
   "metadata": {
    "collapsed": false
   },
   "outputs": [],
   "source": [
    "# Regrid data\n",
    "\n",
    "monthly=np.zeros((12,160,360))\n",
    "\n",
    "for m in range(1, 13):\n",
    "\n",
    "    infile='/Volumes/My Passport/high_res/Nuts/SurfNutsZoo.monthly.1999%02d.data' % m\n",
    "\n",
    "    phi=np.fromfile(infile, dtype='>f')\n",
    "    phi[phi==0]=1e-30\n",
    "    phi = phi.reshape(21, 510, 3060)\n",
    "    phi = phi[1,:,:]\n",
    "\n",
    "    # Create a field with 1 over water and 0 over land\n",
    "    phi_one = phi*0\n",
    "    phi_one[phi!=0] = 1\n",
    "\n",
    "    # Bin average the src field to the dst mesh\n",
    "    foo = rm_mat*phi.reshape(510,6,510).transpose([1,0,2]).reshape(6*510*510)\n",
    "    foo = foo.reshape(160,360)\n",
    "\n",
    "    # Bin average the land-sea mask field to the dst mesh\n",
    "    foo_one = rm_mat*phi_one.reshape(510,6,510).transpose([1,0,2]).reshape(6*510*510)\n",
    "    foo_one = foo_one.reshape(160,360)\n",
    "    a = foo_one[foo_one!=0]\n",
    "    foo_one[foo_one!=0]=1./a\n",
    "\n",
    "    # Zap points for which less than 1/alpha of the cell is wet.\n",
    "    alpha = 20\n",
    "    foo_one[foo_one>alpha] = 0.\n",
    "    foo = foo*foo_one\n",
    "\n",
    "\n",
    "    foo = foo *dstmask1\n",
    "    foo[dstmask1==0] = 0.\n",
    "    #fooall = foo\n",
    "    #fooall[np.isnan(fooall)]==0 \n",
    "    \n",
    "    monthly[m-1,:,:] = foo\n",
    "\n",
    "#  Write out the fooall field\n",
    "# outfile='/Users/sclayton/Google Drive/work/comparison/data/monthly/HR2CR/HR2CR_N.1999.data'\n",
    "# monthly.astype('>f4').tofile(outfile)\n",
    "    "
   ]
  }
 ],
 "metadata": {
  "kernelspec": {
   "display_name": "Python 2",
   "language": "python",
   "name": "python2"
  },
  "language_info": {
   "codemirror_mode": {
    "name": "ipython",
    "version": 2
   },
   "file_extension": ".py",
   "mimetype": "text/x-python",
   "name": "python",
   "nbconvert_exporter": "python",
   "pygments_lexer": "ipython2",
   "version": "2.7.11"
  }
 },
 "nbformat": 4,
 "nbformat_minor": 0
}
