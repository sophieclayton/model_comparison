{
 "cells": [
  {
   "cell_type": "code",
   "execution_count": null,
   "metadata": {
    "collapsed": true
   },
   "outputs": [],
   "source": [
    "% matplotlib inline\n",
    "\n",
    "import numpy as np\n",
    "import pandas as pd\n",
    "from math import *\n",
    "import matplotlib.pyplot as plt\n",
    "import scipy.io as sio\n",
    "from mpl_toolkits.basemap import Basemap, cm\n"
   ]
  },
  {
   "cell_type": "code",
   "execution_count": null,
   "metadata": {
    "collapsed": true
   },
   "outputs": [],
   "source": [
    "# import the data to plot\n"
   ]
  },
  {
   "cell_type": "code",
   "execution_count": null,
   "metadata": {
    "collapsed": true
   },
   "outputs": [],
   "source": [
    "# make a plot of the data\n",
    "from mpl_toolkits.axes_grid.inset_locator import inset_axes\n",
    "from matplotlib import rcParams\n",
    "rcParams.update({'figure.autolayout': True})\n",
    "rcParams.update({'font.family': 'serif'})\n",
    "rcParams.update({'font.serif': 'Times New Roman'})\n",
    "\n",
    "palette = plt.get_cmap('RdYlBu_r',16)\n",
    "\n",
    "fig1 = plt.figure(1, figsize=(7, 4), dpi = 300)\n",
    "\n",
    "m = Basemap(width=350000,height=350000,projection='lcc',\n",
    "            resolution='c',lat_1=34.75,lat_2=37.75,lat_0=36.25,lon_0=144.5)\n",
    "\n",
    "m.drawcoastlines()\n",
    "m.drawmapboundary(fill_color='white')\n",
    "m.fillcontinents(color='grey',lake_color='white')\n",
    "\n",
    "\n",
    "\n",
    "fig1.savefig('/Users/sclayton/Desktop/BGS_fig1.tiff', format='tiff', dpi=300)"
   ]
  }
 ],
 "metadata": {
  "kernelspec": {
   "display_name": "Python 2",
   "language": "python",
   "name": "python2"
  },
  "language_info": {
   "codemirror_mode": {
    "name": "ipython",
    "version": 2
   },
   "file_extension": ".py",
   "mimetype": "text/x-python",
   "name": "python",
   "nbconvert_exporter": "python",
   "pygments_lexer": "ipython2",
   "version": "2.7.10"
  }
 },
 "nbformat": 4,
 "nbformat_minor": 0
}
