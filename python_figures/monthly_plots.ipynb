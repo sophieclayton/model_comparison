{
 "cells": [
  {
   "cell_type": "code",
   "execution_count": null,
   "metadata": {
    "collapsed": true
   },
   "outputs": [],
   "source": [
    "% matplotlib inline\n",
    "\n",
    "import numpy as np\n",
    "import numpy.ma as ma\n",
    "import pandas as pd\n",
    "from math import *\n",
    "import matplotlib.pyplot as plt\n",
    "import scipy.io as sio\n",
    "from mpl_toolkits.basemap import Basemap, cm\n",
    "import seawater as sw\n",
    "\n",
    "import MITgcmutils as mit\n",
    "from MITgcmutils import cs\n",
    "\n",
    "from matplotlib import rcParams, rc\n",
    "rcParams.update({'figure.autolayout': True})\n",
    "rcParams.update({'font.family': 'serif'})\n",
    "rcParams.update({'font.serif': 'Times New Roman'})\n"
   ]
  },
  {
   "cell_type": "code",
   "execution_count": null,
   "metadata": {
    "collapsed": true
   },
   "outputs": [],
   "source": [
    "# import data needed\n",
    "# phyto, PP, zoo, MLD, NO3\n",
    "# CR data\n",
    "CR_P = np.fromfile('/Users/sclayton/Google Drive/work/comparison/data/monthly/CR/IntPhyto.monthly.1999.data', dtype = '>f')\n",
    "CR_P = CR_P.reshape(12, 160, 360)\n",
    "CR_PP = np.fromfile('/Users/sclayton/Google Drive/work/comparison/data/monthly/CR/IntPP.monthly.1999.data', dtype = '>f')\n",
    "CR_PP = CR_PP.reshape(12, 160, 360)\n",
    "CR_Z = np.fromfile('/Users/sclayton/Google Drive/work/comparison/data/monthly/CR/IntZoo.monthly.1999.data', dtype = '>f')\n",
    "CR_Z = CR_Z.reshape(12, 160, 360)\n",
    "CR_N = np.fromfile('/Users/sclayton/Google Drive/work/comparison/data/monthly/CR/nit.monthly.1999.data', dtype = '>f')\n",
    "CR_N = CR_N.reshape(12, 160, 360)\n",
    "CR_mld = np.fromfile('/Users/sclayton/Google Drive/work/comparison/data/monthly/CR/mld.monthly.1999.data', dtype = '>f')\n",
    "CR_mld = CR_mld.reshape(12, 160, 360)\n",
    "\n",
    "# HR data\n",
    "HR_Pfile = '/Users/sclayton/Google Drive/work/comparison/data/monthly/HR/intBio.monthly.1999%02d.data' % m\n",
    "HR_PPfile = '/Users/sclayton/Google Drive/work/comparison/data/monthly/HR/intPP.monthly.1999%02d.data' % m\n",
    "HR_mldfile = '/Users/sclayton/Google Drive/work/comparison/data/monthly/HR/MLD.1999%02d.data' % m\n",
    "HR_Nfile = '/Users/sclayton/Google Drive/work/comparison/data/monthly/HR/SurfNutsZoo.monthly.1999%02d.data' % m\n",
    "HR_Zfile = '/Users/sclayton/Google Drive/work/comparison/data/monthly/HR/intZoo.monthly.1999%02d.data' % m"
   ]
  },
  {
   "cell_type": "code",
   "execution_count": null,
   "metadata": {
    "collapsed": true
   },
   "outputs": [],
   "source": []
  }
 ],
 "metadata": {
  "kernelspec": {
   "display_name": "Python 2",
   "language": "python",
   "name": "python2"
  },
  "language_info": {
   "codemirror_mode": {
    "name": "ipython",
    "version": 2
   },
   "file_extension": ".py",
   "mimetype": "text/x-python",
   "name": "python",
   "nbconvert_exporter": "python",
   "pygments_lexer": "ipython2",
   "version": "2.7.11"
  }
 },
 "nbformat": 4,
 "nbformat_minor": 0
}
