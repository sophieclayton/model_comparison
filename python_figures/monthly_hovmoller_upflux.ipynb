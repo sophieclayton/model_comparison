{
 "cells": [
  {
   "cell_type": "code",
   "execution_count": 1,
   "metadata": {
    "collapsed": false
   },
   "outputs": [
    {
     "name": "stderr",
     "output_type": "stream",
     "text": [
      "/Users/sclayton/anaconda/lib/python2.7/site-packages/matplotlib/font_manager.py:273: UserWarning: Matplotlib is building the font cache using fc-list. This may take a moment.\n",
      "  warnings.warn('Matplotlib is building the font cache using fc-list. This may take a moment.')\n"
     ]
    }
   ],
   "source": [
    "% matplotlib inline\n",
    "\n",
    "import numpy as np\n",
    "import numpy.ma as ma\n",
    "import pandas as pd\n",
    "from math import *\n",
    "import matplotlib.pyplot as plt\n",
    "import scipy.io as sio\n",
    "from mpl_toolkits.basemap import Basemap, cm\n",
    "import seawater as sw\n",
    "\n",
    "import MITgcmutils as mit\n",
    "from MITgcmutils import cs\n",
    "\n",
    "from matplotlib import rcParams, rc\n",
    "rcParams.update({'figure.autolayout': True})\n",
    "rcParams.update({'font.family': 'serif'})\n",
    "rcParams.update({'font.serif': 'Times New Roman'})\n"
   ]
  },
  {
   "cell_type": "code",
   "execution_count": 2,
   "metadata": {
    "collapsed": false
   },
   "outputs": [],
   "source": [
    "# import the data to plot\n",
    "CRindir = '/Volumes/My Passport/coarse_run/'\n",
    "HRindir = '/Volumes/My Passport/high_res/'\n",
    "\n",
    "#import grid params for CR grid\n",
    "\n",
    "in_file = '%sgrid/HFacC.data' % CRindir\n",
    "HFCR = np.fromfile(in_file, dtype = '>f')\n",
    "HFCR = HFCR.reshape(23, 160, 360)\n",
    "\n",
    "in_file = '%sgrid/XC.data' % CRindir\n",
    "XC = np.fromfile(in_file, dtype = '>f')\n",
    "XC = XC.reshape(160,360)\n",
    "\n",
    "in_file = '%sgrid/YC.data' % CRindir\n",
    "YC = np.fromfile(in_file, dtype = '>f')\n",
    "YC = YC.reshape(160,360)\n",
    "\n",
    "in_file = '/Users/sclayton/Documents/darwin_model/eg_grid/RA.data'\n",
    "RA = np.fromfile(in_file, dtype = '>f')\n",
    "RA = RA.reshape(160,360)\n",
    "\n",
    "# import CR data\n",
    "in_file = '/Users/sclayton/Google Drive/work/comparison/data/monthly/CR/CRWN.monthly1999.data'\n",
    "CRWN = np.fromfile(in_file, dtype='>f').reshape(4 , 12, 160, 360)\n",
    "\n",
    "# import HR data\n",
    "infile = '/Users/sclayton/Google Drive/work/comparison/data/monthly/HR2CR/HR2CR_WN.1999.data'\n",
    "HRWN = np.fromfile(infile, dtype = '>f').reshape(4, 12, 160, 360)"
   ]
  },
  {
   "cell_type": "code",
   "execution_count": 4,
   "metadata": {
    "collapsed": false
   },
   "outputs": [
    {
     "name": "stderr",
     "output_type": "stream",
     "text": [
      "/Users/sclayton/anaconda/lib/python2.7/site-packages/numpy/lib/nanfunctions.py:675: RuntimeWarning: Mean of empty slice\n",
      "  warnings.warn(\"Mean of empty slice\", RuntimeWarning)\n"
     ]
    }
   ],
   "source": [
    "for m in range(0,12):\n",
    "    for v in range(4):\n",
    "        tmp = HRWN[v, m,:,:]\n",
    "        tmp[[HFCR[6,:,:] == 0]] = np.nan\n",
    "        HRWN[v, m,:,:] = tmp\n",
    "\n",
    "        tmp = CRWN[v,m,:,:]\n",
    "        tmp[[HFCR[6,:,:] == 0]] = np.nan\n",
    "        CRWN[v,m,:,:] = tmp\n",
    "\n",
    "binnedcr = np.nanmean(CRWN, axis = 3)\n",
    "binnedhr = np.nanmean(HRWN, axis = 3)"
   ]
  },
  {
   "cell_type": "code",
   "execution_count": 38,
   "metadata": {
    "collapsed": false
   },
   "outputs": [
    {
     "name": "stdout",
     "output_type": "stream",
     "text": [
      "(3,)\n"
     ]
    },
    {
     "data": {
      "image/png": "[encoded data removed]",
      "text/plain": [
       "<matplotlib.figure.Figure at 0x11e4cc350>"
      ]
     },
     "metadata": {},
     "output_type": "display_data"
    }
   ],
   "source": [
    "palette1 = plt.get_cmap('bwr', 51)\n",
    "palette2 = plt.get_cmap('RdYlBu_r', 50)\n",
    "\n",
    "months = ['J', 'F', 'M', 'A', 'M', 'J', 'J', 'A', 'S', 'O','N', 'D']\n",
    "lats = range(-60,70,20)\n",
    "\n",
    "v = 1\n",
    "\n",
    "f1, axarr = plt.subplots(1,3, figsize=(10, 3), dpi = 600)\n",
    "print np.shape(axarr)\n",
    "\n",
    "## MLD ##\n",
    "h1 = axarr[0].contourf((binnedhr[v,:,:]).transpose(1,0), levels = np.arange(-0.1, 0.11, 0.01),cmap=palette1, extend = 'both')\n",
    "#axarr[0].contour(binnedhr[v, :,:].transpose(1,0), levels = [0], colors='k', linestyles='solid')\n",
    "cbar1 = plt.colorbar(h1, ax=axarr[0])\n",
    "axarr[0].axis([ 0,11,20,140])\n",
    "axarr[0].set_yticks(range(20,150,20))\n",
    "axarr[0].set_yticklabels(lats)\n",
    "axarr[0].set_xticks(range(0, 12, 1))\n",
    "axarr[0].set_xticklabels(months)\n",
    "axarr[0].set_title('HR')\n",
    "axarr[0].set_ylabel('Latitude')\n",
    "\n",
    "c1 = axarr[1].contourf((binnedcr[v,:,:]).transpose(1,0), levels = np.arange(-0.1, 0.11, 0.01),cmap=palette1, extend = 'both')\n",
    "#axarr[1].contour((binnedcr[v, :,:]).transpose(1,0), levels = [0], colors='k', linestyles='solid')\n",
    "cbar2 = plt.colorbar(c1, ax=axarr[1])\n",
    "cbar2.set_label('WN', rotation=90)\n",
    "axarr[1].axis([ 0,11,20,140])\n",
    "axarr[1].set_yticks(range(20,150,20))\n",
    "axarr[1].set_yticklabels(lats)\n",
    "axarr[1].set_xticks(range(0, 12, 1))\n",
    "axarr[1].set_xticklabels(months)\n",
    "axarr[1].set_title('CR')\n",
    "\n",
    "d1 = axarr[2].contourf(((binnedhr[v, :,:]-binnedcr[v, :,:])).transpose(1,0), levels = np.arange(-0.1, 0.11, 0.01),cmap=palette1, extend = 'both')\n",
    "axarr[2].contour((binnedhr[v, :,:]-binnedcr[v, :,:]).transpose(1,0), levels = [0], colors='k', linestyles='solid')\n",
    "cbar3 = plt.colorbar(d1, ax=axarr[2])\n",
    "cbar3.set_label(r'$\\Delta$ WN (m)', rotation=90)\n",
    "axarr[2].axis([ 0,11,20,140])\n",
    "axarr[2].set_yticks(range(20,150,20))\n",
    "axarr[2].set_yticklabels(lats)\n",
    "axarr[2].set_xticks(range(0, 12, 1))\n",
    "axarr[2].set_xticklabels(months)\n",
    "axarr[2].set_title('HR-CR')\n",
    "\n",
    "\n",
    "plt.show()"
   ]
  },
  {
   "cell_type": "code",
   "execution_count": null,
   "metadata": {
    "collapsed": true
   },
   "outputs": [],
   "source": []
  }
 ],
 "metadata": {
  "kernelspec": {
   "display_name": "Python 2",
   "language": "python",
   "name": "python2"
  },
  "language_info": {
   "codemirror_mode": {
    "name": "ipython",
    "version": 2
   },
   "file_extension": ".py",
   "mimetype": "text/x-python",
   "name": "python",
   "nbconvert_exporter": "python",
   "pygments_lexer": "ipython2",
   "version": "2.7.11"
  }
 },
 "nbformat": 4,
 "nbformat_minor": 0
}
