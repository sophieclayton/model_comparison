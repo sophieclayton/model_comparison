{
 "cells": [
  {
   "cell_type": "code",
   "execution_count": null,
   "metadata": {
    "collapsed": true
   },
   "outputs": [],
   "source": [
    "% matplotlib inline\n",
    "\n",
    "import numpy as np\n",
    "import numpy.ma as ma\n",
    "import pandas as pd\n",
    "from math import *\n",
    "import matplotlib.pyplot as plt\n",
    "import scipy.io as sio\n",
    "from mpl_toolkits.basemap import Basemap, cm\n",
    "\n",
    "import MITgcmutils as mit\n",
    "from MITgcmutils import cs\n",
    "\n",
    "from matplotlib import rcParams, rc\n",
    "rcParams.update({'figure.autolayout': True})\n",
    "rcParams.update({'font.family': 'serif'})\n",
    "rcParams.update({'font.serif': 'Times New Roman'})\n"
   ]
  }
 ],
 "metadata": {
  "kernelspec": {
   "display_name": "Python 2",
   "language": "python",
   "name": "python2"
  },
  "language_info": {
   "codemirror_mode": {
    "name": "ipython",
    "version": 2
   },
   "file_extension": ".py",
   "mimetype": "text/x-python",
   "name": "python",
   "nbconvert_exporter": "python",
   "pygments_lexer": "ipython2",
   "version": "2.7.11"
  }
 },
 "nbformat": 4,
 "nbformat_minor": 0
}
